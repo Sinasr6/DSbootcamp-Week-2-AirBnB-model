{
 "cells": [
  {
   "cell_type": "code",
   "execution_count": 1,
   "id": "4ab8d1ce",
   "metadata": {},
   "outputs": [],
   "source": [
    "import pandas as pd # Reading datasets\n",
    "import numpy as np # Operations on our dataset\n",
    "import matplotlib.pyplot as plt # Visualization library\n",
    "import seaborn as sns #E nhanced visualization library\n",
    "from sklearn.preprocessing import LabelEncoder, StandardScaler # Normalizing and Categorical Handeling\n",
    "\n",
    "import warnings\n",
    "\n",
    "\n",
    "warnings.filterwarnings('ignore')\n"
   ]
  },
  {
   "cell_type": "code",
   "execution_count": 2,
   "id": "e1859668",
   "metadata": {},
   "outputs": [
    {
     "data": {
      "text/html": [
       "<div>\n",
       "<style scoped>\n",
       "    .dataframe tbody tr th:only-of-type {\n",
       "        vertical-align: middle;\n",
       "    }\n",
       "\n",
       "    .dataframe tbody tr th {\n",
       "        vertical-align: top;\n",
       "    }\n",
       "\n",
       "    .dataframe thead th {\n",
       "        text-align: right;\n",
       "    }\n",
       "</style>\n",
       "<table border=\"1\" class=\"dataframe\">\n",
       "  <thead>\n",
       "    <tr style=\"text-align: right;\">\n",
       "      <th></th>\n",
       "      <th>id</th>\n",
       "      <th>room_type</th>\n",
       "      <th>accommodates</th>\n",
       "      <th>bathrooms</th>\n",
       "      <th>cancellation_policy</th>\n",
       "      <th>cleaning_fee</th>\n",
       "      <th>instant_bookable</th>\n",
       "      <th>review_scores_rating</th>\n",
       "      <th>bedrooms</th>\n",
       "      <th>beds</th>\n",
       "      <th>log_price</th>\n",
       "    </tr>\n",
       "  </thead>\n",
       "  <tbody>\n",
       "    <tr>\n",
       "      <th>0</th>\n",
       "      <td>6901257</td>\n",
       "      <td>Entire home/apt</td>\n",
       "      <td>3.0</td>\n",
       "      <td>1.0</td>\n",
       "      <td>strict</td>\n",
       "      <td>True</td>\n",
       "      <td>f</td>\n",
       "      <td>100.0</td>\n",
       "      <td>1.0</td>\n",
       "      <td>1.0</td>\n",
       "      <td>5.010635</td>\n",
       "    </tr>\n",
       "    <tr>\n",
       "      <th>1</th>\n",
       "      <td>6304928</td>\n",
       "      <td>Entire home/apt</td>\n",
       "      <td>7.0</td>\n",
       "      <td>1.0</td>\n",
       "      <td>strict</td>\n",
       "      <td>True</td>\n",
       "      <td>t</td>\n",
       "      <td>93.0</td>\n",
       "      <td>3.0</td>\n",
       "      <td>3.0</td>\n",
       "      <td>5.129899</td>\n",
       "    </tr>\n",
       "    <tr>\n",
       "      <th>2</th>\n",
       "      <td>7919400</td>\n",
       "      <td>Entire home/apt</td>\n",
       "      <td>5.0</td>\n",
       "      <td>1.0</td>\n",
       "      <td>moderate</td>\n",
       "      <td>True</td>\n",
       "      <td>t</td>\n",
       "      <td>92.0</td>\n",
       "      <td>1.0</td>\n",
       "      <td>3.0</td>\n",
       "      <td>4.976734</td>\n",
       "    </tr>\n",
       "    <tr>\n",
       "      <th>3</th>\n",
       "      <td>13418779</td>\n",
       "      <td>Entire home/apt</td>\n",
       "      <td>4.0</td>\n",
       "      <td>1.0</td>\n",
       "      <td>flexible</td>\n",
       "      <td>True</td>\n",
       "      <td>f</td>\n",
       "      <td>NaN</td>\n",
       "      <td>2.0</td>\n",
       "      <td>2.0</td>\n",
       "      <td>6.620073</td>\n",
       "    </tr>\n",
       "    <tr>\n",
       "      <th>4</th>\n",
       "      <td>3808709</td>\n",
       "      <td>Entire home/apt</td>\n",
       "      <td>2.0</td>\n",
       "      <td>1.0</td>\n",
       "      <td>moderate</td>\n",
       "      <td>True</td>\n",
       "      <td>t</td>\n",
       "      <td>40.0</td>\n",
       "      <td>0.0</td>\n",
       "      <td>1.0</td>\n",
       "      <td>4.744932</td>\n",
       "    </tr>\n",
       "  </tbody>\n",
       "</table>\n",
       "</div>"
      ],
      "text/plain": [
       "         id        room_type  accommodates  bathrooms cancellation_policy  \\\n",
       "0   6901257  Entire home/apt           3.0        1.0              strict   \n",
       "1   6304928  Entire home/apt           7.0        1.0              strict   \n",
       "2   7919400  Entire home/apt           5.0        1.0            moderate   \n",
       "3  13418779  Entire home/apt           4.0        1.0            flexible   \n",
       "4   3808709  Entire home/apt           2.0        1.0            moderate   \n",
       "\n",
       "  cleaning_fee instant_bookable  review_scores_rating  bedrooms  beds  \\\n",
       "0         True                f                 100.0       1.0   1.0   \n",
       "1         True                t                  93.0       3.0   3.0   \n",
       "2         True                t                  92.0       1.0   3.0   \n",
       "3         True                f                   NaN       2.0   2.0   \n",
       "4         True                t                  40.0       0.0   1.0   \n",
       "\n",
       "   log_price  \n",
       "0   5.010635  \n",
       "1   5.129899  \n",
       "2   4.976734  \n",
       "3   6.620073  \n",
       "4   4.744932  "
      ]
     },
     "execution_count": 2,
     "metadata": {},
     "output_type": "execute_result"
    }
   ],
   "source": [
    "df = pd.read_csv(r\"F:\\Courses\\Data Science bootcamp\\AirBnB\\AirBNB.csv\")\n",
    "df.head()"
   ]
  },
  {
   "cell_type": "markdown",
   "id": "97598159",
   "metadata": {},
   "source": [
    "After inputting the dataset, I need to understand what the columns describe and what type they are. "
   ]
  },
  {
   "cell_type": "code",
   "execution_count": 3,
   "id": "cca40615",
   "metadata": {},
   "outputs": [
    {
     "name": "stdout",
     "output_type": "stream",
     "text": [
      "<class 'pandas.core.frame.DataFrame'>\n",
      "RangeIndex: 74111 entries, 0 to 74110\n",
      "Data columns (total 11 columns):\n",
      " #   Column                Non-Null Count  Dtype  \n",
      "---  ------                --------------  -----  \n",
      " 0   id                    74111 non-null  int64  \n",
      " 1   room_type             74106 non-null  object \n",
      " 2   accommodates          74108 non-null  float64\n",
      " 3   bathrooms             73908 non-null  float64\n",
      " 4   cancellation_policy   74103 non-null  object \n",
      " 5   cleaning_fee          74107 non-null  object \n",
      " 6   instant_bookable      74111 non-null  object \n",
      " 7   review_scores_rating  57389 non-null  float64\n",
      " 8   bedrooms              74019 non-null  float64\n",
      " 9   beds                  73980 non-null  float64\n",
      " 10  log_price             74111 non-null  float64\n",
      "dtypes: float64(6), int64(1), object(4)\n",
      "memory usage: 6.2+ MB\n"
     ]
    }
   ],
   "source": [
    "df.info()"
   ]
  },
  {
   "cell_type": "markdown",
   "id": "7b4f7c55",
   "metadata": {},
   "source": [
    "Here I will take care of every categorical value, so that I need only worry about numbers"
   ]
  },
  {
   "cell_type": "code",
   "execution_count": 4,
   "id": "3317b94f",
   "metadata": {},
   "outputs": [],
   "source": [
    "le = LabelEncoder()\n",
    "for col in df.columns:\n",
    "    if df[col].dtype == \"object\":\n",
    "        df[col] = le.fit_transform(df[col])"
   ]
  },
  {
   "cell_type": "code",
   "execution_count": 5,
   "id": "53a01d5e",
   "metadata": {},
   "outputs": [
    {
     "data": {
      "text/html": [
       "<div>\n",
       "<style scoped>\n",
       "    .dataframe tbody tr th:only-of-type {\n",
       "        vertical-align: middle;\n",
       "    }\n",
       "\n",
       "    .dataframe tbody tr th {\n",
       "        vertical-align: top;\n",
       "    }\n",
       "\n",
       "    .dataframe thead th {\n",
       "        text-align: right;\n",
       "    }\n",
       "</style>\n",
       "<table border=\"1\" class=\"dataframe\">\n",
       "  <thead>\n",
       "    <tr style=\"text-align: right;\">\n",
       "      <th></th>\n",
       "      <th>id</th>\n",
       "      <th>room_type</th>\n",
       "      <th>accommodates</th>\n",
       "      <th>bathrooms</th>\n",
       "      <th>cancellation_policy</th>\n",
       "      <th>cleaning_fee</th>\n",
       "      <th>instant_bookable</th>\n",
       "      <th>review_scores_rating</th>\n",
       "      <th>bedrooms</th>\n",
       "      <th>beds</th>\n",
       "      <th>log_price</th>\n",
       "    </tr>\n",
       "  </thead>\n",
       "  <tbody>\n",
       "    <tr>\n",
       "      <th>0</th>\n",
       "      <td>6901257</td>\n",
       "      <td>0</td>\n",
       "      <td>3.0</td>\n",
       "      <td>1.0</td>\n",
       "      <td>2</td>\n",
       "      <td>1</td>\n",
       "      <td>0</td>\n",
       "      <td>100.0</td>\n",
       "      <td>1.0</td>\n",
       "      <td>1.0</td>\n",
       "      <td>5.010635</td>\n",
       "    </tr>\n",
       "    <tr>\n",
       "      <th>1</th>\n",
       "      <td>6304928</td>\n",
       "      <td>0</td>\n",
       "      <td>7.0</td>\n",
       "      <td>1.0</td>\n",
       "      <td>2</td>\n",
       "      <td>1</td>\n",
       "      <td>1</td>\n",
       "      <td>93.0</td>\n",
       "      <td>3.0</td>\n",
       "      <td>3.0</td>\n",
       "      <td>5.129899</td>\n",
       "    </tr>\n",
       "    <tr>\n",
       "      <th>2</th>\n",
       "      <td>7919400</td>\n",
       "      <td>0</td>\n",
       "      <td>5.0</td>\n",
       "      <td>1.0</td>\n",
       "      <td>1</td>\n",
       "      <td>1</td>\n",
       "      <td>1</td>\n",
       "      <td>92.0</td>\n",
       "      <td>1.0</td>\n",
       "      <td>3.0</td>\n",
       "      <td>4.976734</td>\n",
       "    </tr>\n",
       "    <tr>\n",
       "      <th>3</th>\n",
       "      <td>13418779</td>\n",
       "      <td>0</td>\n",
       "      <td>4.0</td>\n",
       "      <td>1.0</td>\n",
       "      <td>0</td>\n",
       "      <td>1</td>\n",
       "      <td>0</td>\n",
       "      <td>NaN</td>\n",
       "      <td>2.0</td>\n",
       "      <td>2.0</td>\n",
       "      <td>6.620073</td>\n",
       "    </tr>\n",
       "    <tr>\n",
       "      <th>4</th>\n",
       "      <td>3808709</td>\n",
       "      <td>0</td>\n",
       "      <td>2.0</td>\n",
       "      <td>1.0</td>\n",
       "      <td>1</td>\n",
       "      <td>1</td>\n",
       "      <td>1</td>\n",
       "      <td>40.0</td>\n",
       "      <td>0.0</td>\n",
       "      <td>1.0</td>\n",
       "      <td>4.744932</td>\n",
       "    </tr>\n",
       "  </tbody>\n",
       "</table>\n",
       "</div>"
      ],
      "text/plain": [
       "         id  room_type  accommodates  bathrooms  cancellation_policy  \\\n",
       "0   6901257          0           3.0        1.0                    2   \n",
       "1   6304928          0           7.0        1.0                    2   \n",
       "2   7919400          0           5.0        1.0                    1   \n",
       "3  13418779          0           4.0        1.0                    0   \n",
       "4   3808709          0           2.0        1.0                    1   \n",
       "\n",
       "   cleaning_fee  instant_bookable  review_scores_rating  bedrooms  beds  \\\n",
       "0             1                 0                 100.0       1.0   1.0   \n",
       "1             1                 1                  93.0       3.0   3.0   \n",
       "2             1                 1                  92.0       1.0   3.0   \n",
       "3             1                 0                   NaN       2.0   2.0   \n",
       "4             1                 1                  40.0       0.0   1.0   \n",
       "\n",
       "   log_price  \n",
       "0   5.010635  \n",
       "1   5.129899  \n",
       "2   4.976734  \n",
       "3   6.620073  \n",
       "4   4.744932  "
      ]
     },
     "execution_count": 5,
     "metadata": {},
     "output_type": "execute_result"
    }
   ],
   "source": [
    "df.head()"
   ]
  },
  {
   "cell_type": "code",
   "execution_count": 6,
   "id": "0c1f5192",
   "metadata": {},
   "outputs": [
    {
     "name": "stdout",
     "output_type": "stream",
     "text": [
      "<class 'pandas.core.frame.DataFrame'>\n",
      "RangeIndex: 74111 entries, 0 to 74110\n",
      "Data columns (total 11 columns):\n",
      " #   Column                Non-Null Count  Dtype  \n",
      "---  ------                --------------  -----  \n",
      " 0   id                    74111 non-null  int64  \n",
      " 1   room_type             74111 non-null  int32  \n",
      " 2   accommodates          74108 non-null  float64\n",
      " 3   bathrooms             73908 non-null  float64\n",
      " 4   cancellation_policy   74111 non-null  int32  \n",
      " 5   cleaning_fee          74111 non-null  int32  \n",
      " 6   instant_bookable      74111 non-null  int32  \n",
      " 7   review_scores_rating  57389 non-null  float64\n",
      " 8   bedrooms              74019 non-null  float64\n",
      " 9   beds                  73980 non-null  float64\n",
      " 10  log_price             74111 non-null  float64\n",
      "dtypes: float64(6), int32(4), int64(1)\n",
      "memory usage: 5.1 MB\n"
     ]
    }
   ],
   "source": [
    "df.info()"
   ]
  },
  {
   "cell_type": "markdown",
   "id": "5de0c408",
   "metadata": {},
   "source": [
    "Now that the categorival variables are taken care of, I need to handle Null values."
   ]
  },
  {
   "cell_type": "code",
   "execution_count": 7,
   "id": "63a3d572",
   "metadata": {},
   "outputs": [
    {
     "data": {
      "text/plain": [
       "id                          0\n",
       "room_type                   0\n",
       "accommodates                3\n",
       "bathrooms                 203\n",
       "cancellation_policy         0\n",
       "cleaning_fee                0\n",
       "instant_bookable            0\n",
       "review_scores_rating    16722\n",
       "bedrooms                   92\n",
       "beds                      131\n",
       "log_price                   0\n",
       "dtype: int64"
      ]
     },
     "execution_count": 7,
     "metadata": {},
     "output_type": "execute_result"
    }
   ],
   "source": [
    "df.isnull().sum()"
   ]
  },
  {
   "cell_type": "code",
   "execution_count": 8,
   "id": "dab380ec",
   "metadata": {},
   "outputs": [],
   "source": [
    "df[\"review_scores_rating\"].fillna(df[\"review_scores_rating\"].mean(), inplace = True)\n",
    "df[\"beds\"].fillna(df[\"beds\"].mean(), inplace = True)\n",
    "df[\"accommodates\"].fillna(df[\"accommodates\"].mean(), inplace = True)"
   ]
  },
  {
   "cell_type": "markdown",
   "id": "c19088ac",
   "metadata": {},
   "source": [
    "For the number of bathroom and bedrooms in each house, I decided to look at the room type, instead of the Mean value "
   ]
  },
  {
   "cell_type": "code",
   "execution_count": 9,
   "id": "5eefc9c3",
   "metadata": {},
   "outputs": [],
   "source": [
    "s1 = s2 = s3 = 0\n",
    "for irow in range(df.shape[0]):\n",
    "    if df.iloc[irow][\"room_type\"] == 0:\n",
    "        if pd.isna(df.at[irow,\"bedrooms\"]):\n",
    "            continue\n",
    "        s1 = s1 + df.iloc[irow][\"bedrooms\"]\n",
    "    elif df.iloc[irow][\"room_type\"] == 1:\n",
    "        if pd.isna(df.at[irow,\"bedrooms\"]):\n",
    "            continue\n",
    "        s2 = s2 + df.iloc[irow][\"bedrooms\"]\n",
    "    else:\n",
    "        if pd.isna(df.at[irow,\"bedrooms\"]):\n",
    "            continue\n",
    "        s3 = s3 + df.iloc[irow][\"bedrooms\"]\n",
    "\n",
    "bedrooms_mean = []\n",
    "bedrooms_mean.append(int(s1 / df.room_type.value_counts()[0]))\n",
    "bedrooms_mean.append(int(s2 / df.room_type.value_counts()[1]))\n",
    "bedrooms_mean.append(int(s3 / df.room_type.value_counts()[2]))\n",
    "\n",
    "# the mean for each one is 1\n",
    "df[\"bedrooms\"].fillna(1, inplace = True)"
   ]
  },
  {
   "cell_type": "code",
   "execution_count": 10,
   "id": "b46c63b0",
   "metadata": {},
   "outputs": [],
   "source": [
    "s1 = s2 = s3 = 0\n",
    "for irow in range(df.shape[0]):\n",
    "    if df.iloc[irow][\"room_type\"] == 0:\n",
    "        if pd.isna(df.at[irow,\"bathrooms\"]):\n",
    "            continue\n",
    "        s1 = s1 + df.iloc[irow][\"bathrooms\"]\n",
    "    elif df.iloc[irow][\"room_type\"] == 1:\n",
    "        if pd.isna(df.at[irow,\"bathrooms\"]):\n",
    "            continue\n",
    "        s2 = s2 + df.iloc[irow][\"bathrooms\"]\n",
    "    else:\n",
    "        if pd.isna(df.at[irow,\"bathrooms\"]):\n",
    "            continue\n",
    "        s3 = s3 + df.iloc[irow][\"bathrooms\"]\n",
    "\n",
    "bathroom_mean = []\n",
    "bathroom_mean.append(int(s1 / df.room_type.value_counts()[0]))\n",
    "bathroom_mean.append(int(s2 / df.room_type.value_counts()[1]))\n",
    "bathroom_mean.append(int(s3 / df.room_type.value_counts()[2]))\n",
    "\n",
    "# the mean for each one is 1\n",
    "df[\"bathrooms\"].fillna(1, inplace = True)"
   ]
  },
  {
   "cell_type": "code",
   "execution_count": 11,
   "id": "dda8dc82",
   "metadata": {},
   "outputs": [
    {
     "data": {
      "text/html": [
       "<div>\n",
       "<style scoped>\n",
       "    .dataframe tbody tr th:only-of-type {\n",
       "        vertical-align: middle;\n",
       "    }\n",
       "\n",
       "    .dataframe tbody tr th {\n",
       "        vertical-align: top;\n",
       "    }\n",
       "\n",
       "    .dataframe thead th {\n",
       "        text-align: right;\n",
       "    }\n",
       "</style>\n",
       "<table border=\"1\" class=\"dataframe\">\n",
       "  <thead>\n",
       "    <tr style=\"text-align: right;\">\n",
       "      <th></th>\n",
       "      <th>id</th>\n",
       "      <th>room_type</th>\n",
       "      <th>accommodates</th>\n",
       "      <th>bathrooms</th>\n",
       "      <th>cancellation_policy</th>\n",
       "      <th>cleaning_fee</th>\n",
       "      <th>instant_bookable</th>\n",
       "      <th>review_scores_rating</th>\n",
       "      <th>bedrooms</th>\n",
       "      <th>beds</th>\n",
       "      <th>log_price</th>\n",
       "    </tr>\n",
       "  </thead>\n",
       "  <tbody>\n",
       "    <tr>\n",
       "      <th>count</th>\n",
       "      <td>7.411100e+04</td>\n",
       "      <td>74111.000000</td>\n",
       "      <td>74111.000000</td>\n",
       "      <td>74111.000000</td>\n",
       "      <td>74111.000000</td>\n",
       "      <td>74111.000000</td>\n",
       "      <td>74111.000000</td>\n",
       "      <td>74111.000000</td>\n",
       "      <td>74111.000000</td>\n",
       "      <td>74111.000000</td>\n",
       "      <td>74111.000000</td>\n",
       "    </tr>\n",
       "    <tr>\n",
       "      <th>mean</th>\n",
       "      <td>1.126662e+07</td>\n",
       "      <td>0.471941</td>\n",
       "      <td>3.155125</td>\n",
       "      <td>1.234628</td>\n",
       "      <td>1.134568</td>\n",
       "      <td>0.734129</td>\n",
       "      <td>0.262458</td>\n",
       "      <td>94.067365</td>\n",
       "      <td>1.265467</td>\n",
       "      <td>1.710868</td>\n",
       "      <td>4.782069</td>\n",
       "    </tr>\n",
       "    <tr>\n",
       "      <th>std</th>\n",
       "      <td>6.081735e+06</td>\n",
       "      <td>0.554972</td>\n",
       "      <td>2.153559</td>\n",
       "      <td>0.581386</td>\n",
       "      <td>0.851495</td>\n",
       "      <td>0.441921</td>\n",
       "      <td>0.439973</td>\n",
       "      <td>6.896002</td>\n",
       "      <td>0.851671</td>\n",
       "      <td>1.253033</td>\n",
       "      <td>0.717394</td>\n",
       "    </tr>\n",
       "    <tr>\n",
       "      <th>min</th>\n",
       "      <td>3.440000e+02</td>\n",
       "      <td>0.000000</td>\n",
       "      <td>1.000000</td>\n",
       "      <td>0.000000</td>\n",
       "      <td>0.000000</td>\n",
       "      <td>0.000000</td>\n",
       "      <td>0.000000</td>\n",
       "      <td>20.000000</td>\n",
       "      <td>0.000000</td>\n",
       "      <td>0.000000</td>\n",
       "      <td>0.000000</td>\n",
       "    </tr>\n",
       "    <tr>\n",
       "      <th>25%</th>\n",
       "      <td>6.261964e+06</td>\n",
       "      <td>0.000000</td>\n",
       "      <td>2.000000</td>\n",
       "      <td>1.000000</td>\n",
       "      <td>0.000000</td>\n",
       "      <td>0.000000</td>\n",
       "      <td>0.000000</td>\n",
       "      <td>93.000000</td>\n",
       "      <td>1.000000</td>\n",
       "      <td>1.000000</td>\n",
       "      <td>4.317488</td>\n",
       "    </tr>\n",
       "    <tr>\n",
       "      <th>50%</th>\n",
       "      <td>1.225415e+07</td>\n",
       "      <td>0.000000</td>\n",
       "      <td>2.000000</td>\n",
       "      <td>1.000000</td>\n",
       "      <td>1.000000</td>\n",
       "      <td>1.000000</td>\n",
       "      <td>0.000000</td>\n",
       "      <td>94.067365</td>\n",
       "      <td>1.000000</td>\n",
       "      <td>1.000000</td>\n",
       "      <td>4.709530</td>\n",
       "    </tr>\n",
       "    <tr>\n",
       "      <th>75%</th>\n",
       "      <td>1.640226e+07</td>\n",
       "      <td>1.000000</td>\n",
       "      <td>4.000000</td>\n",
       "      <td>1.000000</td>\n",
       "      <td>2.000000</td>\n",
       "      <td>1.000000</td>\n",
       "      <td>1.000000</td>\n",
       "      <td>99.000000</td>\n",
       "      <td>1.000000</td>\n",
       "      <td>2.000000</td>\n",
       "      <td>5.220356</td>\n",
       "    </tr>\n",
       "    <tr>\n",
       "      <th>max</th>\n",
       "      <td>2.123090e+07</td>\n",
       "      <td>3.000000</td>\n",
       "      <td>16.000000</td>\n",
       "      <td>8.000000</td>\n",
       "      <td>3.000000</td>\n",
       "      <td>2.000000</td>\n",
       "      <td>1.000000</td>\n",
       "      <td>100.000000</td>\n",
       "      <td>10.000000</td>\n",
       "      <td>18.000000</td>\n",
       "      <td>7.600402</td>\n",
       "    </tr>\n",
       "  </tbody>\n",
       "</table>\n",
       "</div>"
      ],
      "text/plain": [
       "                 id     room_type  accommodates     bathrooms  \\\n",
       "count  7.411100e+04  74111.000000  74111.000000  74111.000000   \n",
       "mean   1.126662e+07      0.471941      3.155125      1.234628   \n",
       "std    6.081735e+06      0.554972      2.153559      0.581386   \n",
       "min    3.440000e+02      0.000000      1.000000      0.000000   \n",
       "25%    6.261964e+06      0.000000      2.000000      1.000000   \n",
       "50%    1.225415e+07      0.000000      2.000000      1.000000   \n",
       "75%    1.640226e+07      1.000000      4.000000      1.000000   \n",
       "max    2.123090e+07      3.000000     16.000000      8.000000   \n",
       "\n",
       "       cancellation_policy  cleaning_fee  instant_bookable  \\\n",
       "count         74111.000000  74111.000000      74111.000000   \n",
       "mean              1.134568      0.734129          0.262458   \n",
       "std               0.851495      0.441921          0.439973   \n",
       "min               0.000000      0.000000          0.000000   \n",
       "25%               0.000000      0.000000          0.000000   \n",
       "50%               1.000000      1.000000          0.000000   \n",
       "75%               2.000000      1.000000          1.000000   \n",
       "max               3.000000      2.000000          1.000000   \n",
       "\n",
       "       review_scores_rating      bedrooms          beds     log_price  \n",
       "count          74111.000000  74111.000000  74111.000000  74111.000000  \n",
       "mean              94.067365      1.265467      1.710868      4.782069  \n",
       "std                6.896002      0.851671      1.253033      0.717394  \n",
       "min               20.000000      0.000000      0.000000      0.000000  \n",
       "25%               93.000000      1.000000      1.000000      4.317488  \n",
       "50%               94.067365      1.000000      1.000000      4.709530  \n",
       "75%               99.000000      1.000000      2.000000      5.220356  \n",
       "max              100.000000     10.000000     18.000000      7.600402  "
      ]
     },
     "execution_count": 11,
     "metadata": {},
     "output_type": "execute_result"
    }
   ],
   "source": [
    "df.describe()"
   ]
  },
  {
   "cell_type": "code",
   "execution_count": 12,
   "id": "a1f5433c",
   "metadata": {},
   "outputs": [
    {
     "data": {
      "text/html": [
       "<div>\n",
       "<style scoped>\n",
       "    .dataframe tbody tr th:only-of-type {\n",
       "        vertical-align: middle;\n",
       "    }\n",
       "\n",
       "    .dataframe tbody tr th {\n",
       "        vertical-align: top;\n",
       "    }\n",
       "\n",
       "    .dataframe thead th {\n",
       "        text-align: right;\n",
       "    }\n",
       "</style>\n",
       "<table border=\"1\" class=\"dataframe\">\n",
       "  <thead>\n",
       "    <tr style=\"text-align: right;\">\n",
       "      <th></th>\n",
       "      <th>id</th>\n",
       "      <th>room_type</th>\n",
       "      <th>accommodates</th>\n",
       "      <th>bathrooms</th>\n",
       "      <th>cancellation_policy</th>\n",
       "      <th>cleaning_fee</th>\n",
       "      <th>instant_bookable</th>\n",
       "      <th>review_scores_rating</th>\n",
       "      <th>bedrooms</th>\n",
       "      <th>beds</th>\n",
       "      <th>log_price</th>\n",
       "    </tr>\n",
       "  </thead>\n",
       "  <tbody>\n",
       "    <tr>\n",
       "      <th>0</th>\n",
       "      <td>6901257</td>\n",
       "      <td>0</td>\n",
       "      <td>3.0</td>\n",
       "      <td>1.0</td>\n",
       "      <td>2</td>\n",
       "      <td>1</td>\n",
       "      <td>0</td>\n",
       "      <td>100.000000</td>\n",
       "      <td>1.0</td>\n",
       "      <td>1.0</td>\n",
       "      <td>5.010635</td>\n",
       "    </tr>\n",
       "    <tr>\n",
       "      <th>1</th>\n",
       "      <td>6304928</td>\n",
       "      <td>0</td>\n",
       "      <td>7.0</td>\n",
       "      <td>1.0</td>\n",
       "      <td>2</td>\n",
       "      <td>1</td>\n",
       "      <td>1</td>\n",
       "      <td>93.000000</td>\n",
       "      <td>3.0</td>\n",
       "      <td>3.0</td>\n",
       "      <td>5.129899</td>\n",
       "    </tr>\n",
       "    <tr>\n",
       "      <th>2</th>\n",
       "      <td>7919400</td>\n",
       "      <td>0</td>\n",
       "      <td>5.0</td>\n",
       "      <td>1.0</td>\n",
       "      <td>1</td>\n",
       "      <td>1</td>\n",
       "      <td>1</td>\n",
       "      <td>92.000000</td>\n",
       "      <td>1.0</td>\n",
       "      <td>3.0</td>\n",
       "      <td>4.976734</td>\n",
       "    </tr>\n",
       "    <tr>\n",
       "      <th>3</th>\n",
       "      <td>13418779</td>\n",
       "      <td>0</td>\n",
       "      <td>4.0</td>\n",
       "      <td>1.0</td>\n",
       "      <td>0</td>\n",
       "      <td>1</td>\n",
       "      <td>0</td>\n",
       "      <td>94.067365</td>\n",
       "      <td>2.0</td>\n",
       "      <td>2.0</td>\n",
       "      <td>6.620073</td>\n",
       "    </tr>\n",
       "    <tr>\n",
       "      <th>4</th>\n",
       "      <td>3808709</td>\n",
       "      <td>0</td>\n",
       "      <td>2.0</td>\n",
       "      <td>1.0</td>\n",
       "      <td>1</td>\n",
       "      <td>1</td>\n",
       "      <td>1</td>\n",
       "      <td>40.000000</td>\n",
       "      <td>0.0</td>\n",
       "      <td>1.0</td>\n",
       "      <td>4.744932</td>\n",
       "    </tr>\n",
       "  </tbody>\n",
       "</table>\n",
       "</div>"
      ],
      "text/plain": [
       "         id  room_type  accommodates  bathrooms  cancellation_policy  \\\n",
       "0   6901257          0           3.0        1.0                    2   \n",
       "1   6304928          0           7.0        1.0                    2   \n",
       "2   7919400          0           5.0        1.0                    1   \n",
       "3  13418779          0           4.0        1.0                    0   \n",
       "4   3808709          0           2.0        1.0                    1   \n",
       "\n",
       "   cleaning_fee  instant_bookable  review_scores_rating  bedrooms  beds  \\\n",
       "0             1                 0            100.000000       1.0   1.0   \n",
       "1             1                 1             93.000000       3.0   3.0   \n",
       "2             1                 1             92.000000       1.0   3.0   \n",
       "3             1                 0             94.067365       2.0   2.0   \n",
       "4             1                 1             40.000000       0.0   1.0   \n",
       "\n",
       "   log_price  \n",
       "0   5.010635  \n",
       "1   5.129899  \n",
       "2   4.976734  \n",
       "3   6.620073  \n",
       "4   4.744932  "
      ]
     },
     "execution_count": 12,
     "metadata": {},
     "output_type": "execute_result"
    }
   ],
   "source": [
    "df.head()"
   ]
  },
  {
   "cell_type": "markdown",
   "id": "7a875fc9",
   "metadata": {},
   "source": [
    "As We can see below, the relationships are linear, therefore linear regression model is recommended"
   ]
  },
  {
   "cell_type": "code",
   "execution_count": 13,
   "id": "9f3d3e4e",
   "metadata": {},
   "outputs": [
    {
     "data": {
      "image/png": "[encoded data removed]",
      "text/plain": [
       "<Figure size 432x288 with 1 Axes>"
      ]
     },
     "metadata": {
      "needs_background": "light"
     },
     "output_type": "display_data"
    },
    {
     "data": {
      "image/png": "[encoded data removed]",
      "text/plain": [
       "<Figure size 432x288 with 1 Axes>"
      ]
     },
     "metadata": {
      "needs_background": "light"
     },
     "output_type": "display_data"
    },
    {
     "data": {
      "image/png": "[encoded data removed]",
      "text/plain": [
       "<Figure size 432x288 with 1 Axes>"
      ]
     },
     "metadata": {
      "needs_background": "light"
     },
     "output_type": "display_data"
    },
    {
     "data": {
      "image/png": "[encoded data removed]",
      "text/plain": [
       "<Figure size 432x288 with 1 Axes>"
      ]
     },
     "metadata": {
      "needs_background": "light"
     },
     "output_type": "display_data"
    },
    {
     "data": {
      "image/png": "[encoded data removed]",
      "text/plain": [
       "<Figure size 432x288 with 1 Axes>"
      ]
     },
     "metadata": {
      "needs_background": "light"
     },
     "output_type": "display_data"
    },
    {
     "data": {
      "image/png": "[encoded data removed]",
      "text/plain": [
       "<Figure size 432x288 with 1 Axes>"
      ]
     },
     "metadata": {
      "needs_background": "light"
     },
     "output_type": "display_data"
    },
    {
     "data": {
      "image/png": "[encoded data removed]",
      "text/plain": [
       "<Figure size 432x288 with 1 Axes>"
      ]
     },
     "metadata": {
      "needs_background": "light"
     },
     "output_type": "display_data"
    },
    {
     "data": {
      "image/png": "[encoded data removed]",
      "text/plain": [
       "<Figure size 432x288 with 1 Axes>"
      ]
     },
     "metadata": {
      "needs_background": "light"
     },
     "output_type": "display_data"
    },
    {
     "data": {
      "image/png": "[encoded data removed]",
      "text/plain": [
       "<Figure size 432x288 with 1 Axes>"
      ]
     },
     "metadata": {
      "needs_background": "light"
     },
     "output_type": "display_data"
    },
    {
     "data": {
      "image/png": "[encoded data removed]",
      "text/plain": [
       "<Figure size 432x288 with 1 Axes>"
      ]
     },
     "metadata": {
      "needs_background": "light"
     },
     "output_type": "display_data"
    }
   ],
   "source": [
    "# Create scatter plots\n",
    "\n",
    "scaler = StandardScaler()\n",
    "X_scaled = scaler.fit_transform(df.drop('log_price', axis=1))\n",
    "\n",
    "for i, var in enumerate(df.drop('log_price', axis=1).columns):\n",
    "    sns.regplot(x=X_scaled[:, i], y=df['log_price'], scatter_kws={'color': 'blue'}, line_kws={'color': 'red'})\n",
    "    plt.xlabel(var)\n",
    "    plt.ylabel('log_price')\n",
    "    plt.title(f'Regression Plot for {var}')\n",
    "    plt.show()"
   ]
  },
  {
   "cell_type": "code",
   "execution_count": 14,
   "id": "3aa5a349",
   "metadata": {},
   "outputs": [
    {
     "data": {
      "text/html": [
       "<div>\n",
       "<style scoped>\n",
       "    .dataframe tbody tr th:only-of-type {\n",
       "        vertical-align: middle;\n",
       "    }\n",
       "\n",
       "    .dataframe tbody tr th {\n",
       "        vertical-align: top;\n",
       "    }\n",
       "\n",
       "    .dataframe thead th {\n",
       "        text-align: right;\n",
       "    }\n",
       "</style>\n",
       "<table border=\"1\" class=\"dataframe\">\n",
       "  <thead>\n",
       "    <tr style=\"text-align: right;\">\n",
       "      <th></th>\n",
       "      <th>id</th>\n",
       "      <th>room_type</th>\n",
       "      <th>accommodates</th>\n",
       "      <th>bathrooms</th>\n",
       "      <th>cancellation_policy</th>\n",
       "      <th>cleaning_fee</th>\n",
       "      <th>instant_bookable</th>\n",
       "      <th>review_scores_rating</th>\n",
       "      <th>bedrooms</th>\n",
       "      <th>beds</th>\n",
       "      <th>log_price</th>\n",
       "    </tr>\n",
       "  </thead>\n",
       "  <tbody>\n",
       "    <tr>\n",
       "      <th>count</th>\n",
       "      <td>7.411100e+04</td>\n",
       "      <td>74111.000000</td>\n",
       "      <td>74111.000000</td>\n",
       "      <td>74111.000000</td>\n",
       "      <td>74111.000000</td>\n",
       "      <td>74111.000000</td>\n",
       "      <td>74111.000000</td>\n",
       "      <td>74111.000000</td>\n",
       "      <td>74111.000000</td>\n",
       "      <td>74111.000000</td>\n",
       "      <td>74111.000000</td>\n",
       "    </tr>\n",
       "    <tr>\n",
       "      <th>mean</th>\n",
       "      <td>1.126662e+07</td>\n",
       "      <td>0.471941</td>\n",
       "      <td>3.155125</td>\n",
       "      <td>1.234628</td>\n",
       "      <td>1.134568</td>\n",
       "      <td>0.734129</td>\n",
       "      <td>0.262458</td>\n",
       "      <td>94.067365</td>\n",
       "      <td>1.265467</td>\n",
       "      <td>1.710868</td>\n",
       "      <td>4.782069</td>\n",
       "    </tr>\n",
       "    <tr>\n",
       "      <th>std</th>\n",
       "      <td>6.081735e+06</td>\n",
       "      <td>0.554972</td>\n",
       "      <td>2.153559</td>\n",
       "      <td>0.581386</td>\n",
       "      <td>0.851495</td>\n",
       "      <td>0.441921</td>\n",
       "      <td>0.439973</td>\n",
       "      <td>6.896002</td>\n",
       "      <td>0.851671</td>\n",
       "      <td>1.253033</td>\n",
       "      <td>0.717394</td>\n",
       "    </tr>\n",
       "    <tr>\n",
       "      <th>min</th>\n",
       "      <td>3.440000e+02</td>\n",
       "      <td>0.000000</td>\n",
       "      <td>1.000000</td>\n",
       "      <td>0.000000</td>\n",
       "      <td>0.000000</td>\n",
       "      <td>0.000000</td>\n",
       "      <td>0.000000</td>\n",
       "      <td>20.000000</td>\n",
       "      <td>0.000000</td>\n",
       "      <td>0.000000</td>\n",
       "      <td>0.000000</td>\n",
       "    </tr>\n",
       "    <tr>\n",
       "      <th>25%</th>\n",
       "      <td>6.261964e+06</td>\n",
       "      <td>0.000000</td>\n",
       "      <td>2.000000</td>\n",
       "      <td>1.000000</td>\n",
       "      <td>0.000000</td>\n",
       "      <td>0.000000</td>\n",
       "      <td>0.000000</td>\n",
       "      <td>93.000000</td>\n",
       "      <td>1.000000</td>\n",
       "      <td>1.000000</td>\n",
       "      <td>4.317488</td>\n",
       "    </tr>\n",
       "    <tr>\n",
       "      <th>50%</th>\n",
       "      <td>1.225415e+07</td>\n",
       "      <td>0.000000</td>\n",
       "      <td>2.000000</td>\n",
       "      <td>1.000000</td>\n",
       "      <td>1.000000</td>\n",
       "      <td>1.000000</td>\n",
       "      <td>0.000000</td>\n",
       "      <td>94.067365</td>\n",
       "      <td>1.000000</td>\n",
       "      <td>1.000000</td>\n",
       "      <td>4.709530</td>\n",
       "    </tr>\n",
       "    <tr>\n",
       "      <th>75%</th>\n",
       "      <td>1.640226e+07</td>\n",
       "      <td>1.000000</td>\n",
       "      <td>4.000000</td>\n",
       "      <td>1.000000</td>\n",
       "      <td>2.000000</td>\n",
       "      <td>1.000000</td>\n",
       "      <td>1.000000</td>\n",
       "      <td>99.000000</td>\n",
       "      <td>1.000000</td>\n",
       "      <td>2.000000</td>\n",
       "      <td>5.220356</td>\n",
       "    </tr>\n",
       "    <tr>\n",
       "      <th>max</th>\n",
       "      <td>2.123090e+07</td>\n",
       "      <td>3.000000</td>\n",
       "      <td>16.000000</td>\n",
       "      <td>8.000000</td>\n",
       "      <td>3.000000</td>\n",
       "      <td>2.000000</td>\n",
       "      <td>1.000000</td>\n",
       "      <td>100.000000</td>\n",
       "      <td>10.000000</td>\n",
       "      <td>18.000000</td>\n",
       "      <td>7.600402</td>\n",
       "    </tr>\n",
       "  </tbody>\n",
       "</table>\n",
       "</div>"
      ],
      "text/plain": [
       "                 id     room_type  accommodates     bathrooms  \\\n",
       "count  7.411100e+04  74111.000000  74111.000000  74111.000000   \n",
       "mean   1.126662e+07      0.471941      3.155125      1.234628   \n",
       "std    6.081735e+06      0.554972      2.153559      0.581386   \n",
       "min    3.440000e+02      0.000000      1.000000      0.000000   \n",
       "25%    6.261964e+06      0.000000      2.000000      1.000000   \n",
       "50%    1.225415e+07      0.000000      2.000000      1.000000   \n",
       "75%    1.640226e+07      1.000000      4.000000      1.000000   \n",
       "max    2.123090e+07      3.000000     16.000000      8.000000   \n",
       "\n",
       "       cancellation_policy  cleaning_fee  instant_bookable  \\\n",
       "count         74111.000000  74111.000000      74111.000000   \n",
       "mean              1.134568      0.734129          0.262458   \n",
       "std               0.851495      0.441921          0.439973   \n",
       "min               0.000000      0.000000          0.000000   \n",
       "25%               0.000000      0.000000          0.000000   \n",
       "50%               1.000000      1.000000          0.000000   \n",
       "75%               2.000000      1.000000          1.000000   \n",
       "max               3.000000      2.000000          1.000000   \n",
       "\n",
       "       review_scores_rating      bedrooms          beds     log_price  \n",
       "count          74111.000000  74111.000000  74111.000000  74111.000000  \n",
       "mean              94.067365      1.265467      1.710868      4.782069  \n",
       "std                6.896002      0.851671      1.253033      0.717394  \n",
       "min               20.000000      0.000000      0.000000      0.000000  \n",
       "25%               93.000000      1.000000      1.000000      4.317488  \n",
       "50%               94.067365      1.000000      1.000000      4.709530  \n",
       "75%               99.000000      1.000000      2.000000      5.220356  \n",
       "max              100.000000     10.000000     18.000000      7.600402  "
      ]
     },
     "execution_count": 14,
     "metadata": {},
     "output_type": "execute_result"
    }
   ],
   "source": [
    "df.describe()"
   ]
  },
  {
   "cell_type": "markdown",
   "id": "d7579c24",
   "metadata": {},
   "source": [
    "The Chart Below also confirm the Linear Relationship"
   ]
  },
  {
   "cell_type": "code",
   "execution_count": 15,
   "id": "b69a18be",
   "metadata": {},
   "outputs": [
    {
     "ename": "NameError",
     "evalue": "name 'LinearRegression' is not defined",
     "output_type": "error",
     "traceback": [
      "\u001b[1;31m---------------------------------------------------------------------------\u001b[0m",
      "\u001b[1;31mNameError\u001b[0m                                 Traceback (most recent call last)",
      "\u001b[1;32m~\\AppData\\Local\\Temp/ipykernel_2100/3457091120.py\u001b[0m in \u001b[0;36m<module>\u001b[1;34m\u001b[0m\n\u001b[0;32m      1\u001b[0m \u001b[1;31m# Fit a linear regression model\u001b[0m\u001b[1;33m\u001b[0m\u001b[1;33m\u001b[0m\u001b[0m\n\u001b[1;32m----> 2\u001b[1;33m \u001b[0mmodel\u001b[0m \u001b[1;33m=\u001b[0m \u001b[0mLinearRegression\u001b[0m\u001b[1;33m(\u001b[0m\u001b[1;33m)\u001b[0m\u001b[1;33m\u001b[0m\u001b[1;33m\u001b[0m\u001b[0m\n\u001b[0m\u001b[0;32m      3\u001b[0m \u001b[1;33m\u001b[0m\u001b[0m\n\u001b[0;32m      4\u001b[0m \u001b[0my\u001b[0m \u001b[1;33m=\u001b[0m \u001b[0mdf\u001b[0m\u001b[1;33m[\u001b[0m\u001b[1;34m\"log_price\"\u001b[0m\u001b[1;33m]\u001b[0m  \u001b[1;31m# Dependent variable\u001b[0m\u001b[1;33m\u001b[0m\u001b[1;33m\u001b[0m\u001b[0m\n\u001b[0;32m      5\u001b[0m \u001b[0mX\u001b[0m \u001b[1;33m=\u001b[0m \u001b[0mdf\u001b[0m\u001b[1;33m.\u001b[0m\u001b[0mdrop\u001b[0m\u001b[1;33m(\u001b[0m\u001b[0mcolumns\u001b[0m \u001b[1;33m=\u001b[0m \u001b[1;33m{\u001b[0m\u001b[1;34m\"log_price\"\u001b[0m\u001b[1;33m}\u001b[0m\u001b[1;33m)\u001b[0m  \u001b[1;31m# Independent variable(s)\u001b[0m\u001b[1;33m\u001b[0m\u001b[1;33m\u001b[0m\u001b[0m\n",
      "\u001b[1;31mNameError\u001b[0m: name 'LinearRegression' is not defined"
     ]
    }
   ],
   "source": [
    "\n",
    "# Fit a linear regression model\n",
    "model = LinearRegression()\n",
    "\n",
    "y = df[\"log_price\"]  # Dependent variable\n",
    "X = df.drop(columns = {\"log_price\"})  # Independent variable(s)\n",
    "\n",
    "model.fit(X, y)\n",
    "\n",
    "# Calculate the residuals\n",
    "residuals = y - model.predict(X)\n",
    "\n",
    "# Plot the residuals against the independent variable 'log_price'\n",
    "sns.scatterplot(x=df['log_price'], y=residuals)\n",
    "plt.xlabel('log_price')\n",
    "plt.ylabel('Residuals')\n",
    "plt.title('Residual Plot')\n",
    "plt.show()"
   ]
  },
  {
   "cell_type": "markdown",
   "id": "135461b6",
   "metadata": {},
   "source": [
    "The Correlation values also suggest that log price has a linear realtionship with almost all of the others."
   ]
  },
  {
   "cell_type": "code",
   "execution_count": null,
   "id": "9a2fafd3",
   "metadata": {},
   "outputs": [],
   "source": [
    "independent_vars = ['room_type', 'accommodates', 'bathrooms', 'cancellation_policy', 'cleaning_fee', 'instant_bookable', 'review_scores_rating', 'bedrooms','beds']\n",
    "      \n",
    "# Calculate the correlation coefficient for each independent variable\n",
    "for var in independent_vars:\n",
    "    correlation_coefficient = df['log_price'].corr(df[var])\n",
    "    print(f\"Correlation Coefficient between log_price and {var}: {correlation_coefficient}\")"
   ]
  },
  {
   "cell_type": "code",
   "execution_count": null,
   "id": "a1542f2c",
   "metadata": {},
   "outputs": [],
   "source": [
    "corr_matrix = df.corr()\n",
    "\n",
    "# Create a heatmap using Seaborn\n",
    "sns.heatmap(corr_matrix, annot=True, cmap='coolwarm')\n",
    "\n",
    "# Show the plot\n",
    "plt.show()"
   ]
  }
 ],
 "metadata": {
  "kernelspec": {
   "display_name": "Python 3 (ipykernel)",
   "language": "python",
   "name": "python3"
  },
  "language_info": {
   "codemirror_mode": {
    "name": "ipython",
    "version": 3
   },
   "file_extension": ".py",
   "mimetype": "text/x-python",
   "name": "python",
   "nbconvert_exporter": "python",
   "pygments_lexer": "ipython3",
   "version": "3.9.7"
  }
 },
 "nbformat": 4,
 "nbformat_minor": 5
}
